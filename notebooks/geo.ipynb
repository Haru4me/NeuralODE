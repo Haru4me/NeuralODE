{
 "cells": [
  {
   "cell_type": "code",
   "execution_count": 1,
   "metadata": {},
   "outputs": [],
   "source": [
    "from geotiff import GeoTiff\n",
    "import numpy as np\n",
    "import pandas as pd\n",
    "from tqdm import tqdm"
   ]
  },
  {
   "cell_type": "code",
   "execution_count": 2,
   "metadata": {},
   "outputs": [],
   "source": [
    "pairs = pd.read_csv('data/pairs/pairs.csv')"
   ]
  },
  {
   "cell_type": "code",
   "execution_count": 3,
   "metadata": {},
   "outputs": [],
   "source": [
    "lat, lon = pairs.loc[:, 'lat'].to_numpy().astype(int), pairs.loc[:, 'lon'].to_numpy().astype(int)"
   ]
  },
  {
   "cell_type": "code",
   "execution_count": 4,
   "metadata": {},
   "outputs": [],
   "source": [
    "def decode_tif(lat, lon, tifname):\n",
    "\n",
    "    lon1 = lon.min()\n",
    "    lon2 = lon.max()\n",
    "    lat1 = lat.min()\n",
    "    lat2 = lat.max()\n",
    "    arr = np.array(GeoTiff(tifname).read_box([(lon1, lat1), (lon2, lat2)]))\n",
    "    ilon = np.round((lon-lon1)/(lon2-lon1)*(arr.shape[1]-1)).round().astype(np.int64)\n",
    "    ilat = np.round((lat2-lat)/(lat2-lat1)*(arr.shape[0]-1)).round().astype(np.int64)\n",
    "    out = np.array([arr[ilat[i], ilon[i]] for i in range(ilon.shape[0])])\n",
    "\n",
    "    return out\n"
   ]
  },
  {
   "cell_type": "code",
   "execution_count": 5,
   "metadata": {},
   "outputs": [],
   "source": [
    "tifname = 'data/agro/soil/so2015v2.tif'\n",
    "pairs.loc[:, 'soiltype'] = decode_tif(lat, lon, tifname)\n",
    "tifname = 'data/agro/cover/GLOBCOVER_L4_200901_200912_V2.3.tif'\n",
    "pairs.loc[:, 'covertype'] = decode_tif(lat, lon, tifname)\n"
   ]
  },
  {
   "cell_type": "code",
   "execution_count": 6,
   "metadata": {},
   "outputs": [],
   "source": [
    "cover_df = pd.read_excel('/Users/haru4me/Documents/NeuralODE_v2/data/agro/cover/Globcover2009_Legend.xls', usecols=['Value', 'Label'])\n",
    "soil_df = pd.read_csv('data/agro/soil/2015_suborders_and_gridcode.txt', sep='\\t')"
   ]
  },
  {
   "cell_type": "code",
   "execution_count": 7,
   "metadata": {},
   "outputs": [],
   "source": [
    "soils = pairs.merge(cover_df, left_on='covertype', right_on='Value')\\\n",
    "               .merge(soil_df, left_on='soiltype', right_on='GRIDCODE')\\\n",
    "               .drop(['Value', 'GRIDCODE', 'lat', 'lon', 's_ind', 'dist', 's_lat', 's_lon'], axis=1)\\\n",
    "               .rename(columns={'Label': 'cover_name', 'SOIL_ORDER': 'soil_label', 'SUBORDER': 'suborder'})\\\n",
    "               .astype({'covertype':'int64'})\n",
    "\n",
    "soils.loc[:, 'covertype'] = soils.covertype.map(\n",
    "    {elm: i for i, elm in enumerate(soils.covertype.sort_values().unique())}).astype(int)\n",
    "\n",
    "soils.loc[:, 'soiltype'] = soils.soiltype.map(\n",
    "    {elm: i for i, elm in enumerate(soils.soiltype.sort_values().unique())}).astype(int)\n",
    "\n",
    "soils_label = pd.DataFrame()\n",
    "soils_label.loc[:, 'soiltypes'] = {i: elm for i, elm in  enumerate(soils.soil_label.unique())}.keys()\n",
    "soils_label.loc[:, 'soil_label'] = {i: elm for i, elm in  enumerate(soils.soil_label.unique())}.values()\n",
    "\n",
    "soils = soils.merge(soils_label, on='soil_label')\\\n",
    "                .drop('soiltype', axis=1)\\\n",
    "                .rename(columns={'soiltypes': 'soiltype'})"
   ]
  },
  {
   "cell_type": "code",
   "execution_count": 8,
   "metadata": {},
   "outputs": [],
   "source": [
    "soils.to_parquet('data/soil_info.parquet')"
   ]
  },
  {
   "cell_type": "code",
   "execution_count": 9,
   "metadata": {},
   "outputs": [],
   "source": [
    "agro = pd.read_parquet('data/agro.parquet').sort_values(by=['ind', 'datetime'])\n",
    "syn = pd.read_parquet('data/new_syn.parquet').sort_values(by=['ind', 'datetime'])\n",
    "\n",
    "df = syn.merge(agro, on=['ind', 'datetime']).merge(soils, on='ind').dropna()\n",
    "pairs = df[['ind', 'datetime']].drop_duplicates()\n",
    "filter = [(i, t0) for i, t0, t1 in zip(pairs.ind, pairs.datetime[:-1], pairs.datetime[1:]) if 10 <= (t1-t0).days <= 11]\n",
    "pairs = df.groupby(['ind', 'datetime']).count().loc[filter]\n",
    "pairs = pairs[pairs.t2m == 80].reset_index()[['ind', 'datetime']]\n",
    "\n",
    "pairs = [(i, t0, t1) for i, t0, t1 in zip(pairs.ind, pairs.datetime[:-1], pairs.datetime[1:]) if 10 <= (t1-t0).days <= 11]\n",
    "\n",
    "df.set_index(['ind', 'datetime'], inplace=True)"
   ]
  },
  {
   "cell_type": "code",
   "execution_count": 10,
   "metadata": {},
   "outputs": [
    {
     "name": "stderr",
     "output_type": "stream",
     "text": [
      "100%|██████████| 43146/43146 [1:36:37<00:00,  7.44it/s]\n"
     ]
    }
   ],
   "source": [
    "pbar = tqdm(total=len(pairs))\n",
    "with pbar:\n",
    "    for i, t1, t2 in pairs:\n",
    "        data = pd.concat((df.loc[i, t1], df.loc[i, t2].iloc[[0]]), axis=0)\n",
    "        features = data[['t2m', 'td2m', 'ff', 'R12', 'phi',\n",
    "                         'air', 'soilw', 'precip', 'soiltype', 'covertype']].to_numpy()[:80]\n",
    "        targets = data[['val_1', 'val_2']].to_numpy()[[0, -1]]\n",
    "        np.savez_compressed(f\"data/dataset/{i}_{t1.date().strftime('%Y-%m-%d')}_{t2.date().strftime('%Y-%m-%d')}\",\n",
    "                            feature=features, target=targets, ind=i, t1=t1, t2=t2)\n",
    "        pbar.update(1)\n"
   ]
  },
  {
   "cell_type": "code",
   "execution_count": 25,
   "metadata": {},
   "outputs": [],
   "source": [
    "from src.tools.data import DataNPZ\n",
    "from torch.utils.data import DataLoader\n",
    "import matplotlib.pyplot as plt"
   ]
  },
  {
   "cell_type": "code",
   "execution_count": 26,
   "metadata": {},
   "outputs": [],
   "source": [
    "from scipy.stats import ks_2samp"
   ]
  },
  {
   "cell_type": "code",
   "execution_count": 32,
   "metadata": {},
   "outputs": [],
   "source": [
    "tv, tz = next(iter(DataLoader(DataNPZ('train'), batch_size=len(DataNPZ('train')))))\n",
    "vv, vz = next(iter(DataLoader(DataNPZ('val'), batch_size=len(DataNPZ('val')))))\n"
   ]
  },
  {
   "cell_type": "code",
   "execution_count": null,
   "metadata": {},
   "outputs": [],
   "source": []
  },
  {
   "cell_type": "code",
   "execution_count": null,
   "metadata": {},
   "outputs": [],
   "source": []
  },
  {
   "cell_type": "code",
   "execution_count": null,
   "metadata": {},
   "outputs": [],
   "source": []
  },
  {
   "cell_type": "code",
   "execution_count": null,
   "metadata": {},
   "outputs": [],
   "source": []
  },
  {
   "cell_type": "code",
   "execution_count": null,
   "metadata": {},
   "outputs": [],
   "source": []
  },
  {
   "cell_type": "code",
   "execution_count": null,
   "metadata": {},
   "outputs": [],
   "source": []
  },
  {
   "cell_type": "code",
   "execution_count": 44,
   "metadata": {},
   "outputs": [],
   "source": [
    "info = pd.read_parquet('data/soil_info.parquet')"
   ]
  },
  {
   "cell_type": "code",
   "execution_count": 46,
   "metadata": {},
   "outputs": [],
   "source": [
    "from pathlib import Path\n",
    "from collections import Counter"
   ]
  },
  {
   "cell_type": "code",
   "execution_count": 52,
   "metadata": {},
   "outputs": [],
   "source": [
    "soilcnt = Counter() \n",
    "\n",
    "for i in info.soiltype.unique():\n",
    "    ind = info[info.soiltype == i].ind.unique()\n",
    "    for j in ind:\n",
    "        soilcnt[f'{i}'] += len(list(Path('data/dataset').rglob(f'{j}*.npz')))"
   ]
  },
  {
   "cell_type": "code",
   "execution_count": 53,
   "metadata": {},
   "outputs": [],
   "source": [
    "covercnt = Counter()\n",
    "\n",
    "for i in info.covertype.unique():\n",
    "    ind = info[info.covertype == i].ind.unique()\n",
    "    for j in ind:\n",
    "        covercnt[f'{i}'] += len(list(Path('data/dataset').rglob(f'{j}*.npz')))"
   ]
  },
  {
   "cell_type": "code",
   "execution_count": 54,
   "metadata": {},
   "outputs": [],
   "source": [
    "soilcnt = pd.Series(dict(soilcnt))\n",
    "covercnt = pd.Series(dict(covercnt))"
   ]
  },
  {
   "cell_type": "code",
   "execution_count": 55,
   "metadata": {},
   "outputs": [],
   "source": [
    "import seaborn as sns"
   ]
  },
  {
   "cell_type": "code",
   "execution_count": 56,
   "metadata": {},
   "outputs": [],
   "source": [
    "plt.style.use('classic')\n",
    "plt.rc('font', family='Times New Roman')"
   ]
  },
  {
   "cell_type": "code",
   "execution_count": 91,
   "metadata": {},
   "outputs": [
    {
     "data": {
      "image/png": "[encoded data removed]",
      "text/plain": [
       "<Figure size 480x400 with 1 Axes>"
      ]
     },
     "metadata": {},
     "output_type": "display_data"
    }
   ],
   "source": [
    "plt.figure(figsize=(6,5))\n",
    "sns.barplot(x=soilcnt.index, y=soilcnt, color='b')\n",
    "plt.ylabel(\"Число значений\", size=15)\n",
    "plt.xlabel(\"Номер типа почвы\", size=15)\n",
    "plt.savefig(f'assets/soil.png', bbox_inches='tight', dpi=160)\n",
    "plt.show()\n"
   ]
  },
  {
   "cell_type": "code",
   "execution_count": 89,
   "metadata": {},
   "outputs": [],
   "source": [
    "covercnt.index = covercnt.index.astype(int)"
   ]
  },
  {
   "cell_type": "code",
   "execution_count": 92,
   "metadata": {},
   "outputs": [
    {
     "data": {
      "image/png": "[encoded data removed]",
      "text/plain": [
       "<Figure size 480x400 with 1 Axes>"
      ]
     },
     "metadata": {},
     "output_type": "display_data"
    }
   ],
   "source": [
    "plt.figure(figsize=(6, 5))\n",
    "sns.barplot(x=covercnt.sort_index().index,\n",
    "             y=covercnt.sort_index().values, color='b')\n",
    "plt.ylabel(\"Число значений\", size=15)\n",
    "plt.xlabel(\"Номер типа подстилающей поверхности\", size=15)\n",
    "plt.savefig(f'assets/cover.png', bbox_inches='tight', dpi=160)\n",
    "plt.show()\n"
   ]
  },
  {
   "cell_type": "code",
   "execution_count": 60,
   "metadata": {},
   "outputs": [
    {
     "name": "stderr",
     "output_type": "stream",
     "text": [
      "/Library/Frameworks/Python.framework/Versions/3.9/lib/python3.9/site-packages/seaborn/distributions.py:385: UserWarning: `bins` cannot be 'auto' when using weights. Setting `bins=10`, but you will likely want to adjust.\n",
      "  warnings.warn(msg, UserWarning)\n"
     ]
    },
    {
     "data": {
      "image/png": "[encoded data removed]",
      "text/plain": [
       "<Figure size 800x400 with 1 Axes>"
      ]
     },
     "metadata": {},
     "output_type": "display_data"
    }
   ],
   "source": [
    "plt.figure(figsize=(10, 5))\n",
    "sns.histplot(x=info.covertype.value_counts().sort_values().index,\n",
    "             weights=info.covertype.value_counts().sort_values())\n",
    "plt.xticks(rotation=90)\n",
    "plt.ylabel(\"Number of stations\")\n",
    "plt.show()\n"
   ]
  },
  {
   "cell_type": "code",
   "execution_count": null,
   "metadata": {},
   "outputs": [],
   "source": []
  },
  {
   "cell_type": "code",
   "execution_count": 12,
   "metadata": {},
   "outputs": [],
   "source": [
    "import matplotlib.pyplot as plt"
   ]
  },
  {
   "cell_type": "code",
   "execution_count": null,
   "metadata": {},
   "outputs": [],
   "source": []
  },
  {
   "cell_type": "code",
   "execution_count": null,
   "metadata": {},
   "outputs": [],
   "source": []
  },
  {
   "cell_type": "code",
   "execution_count": null,
   "metadata": {},
   "outputs": [],
   "source": []
  }
 ],
 "metadata": {
  "interpreter": {
   "hash": "aee8b7b246df8f9039afb4144a1f6fd8d2ca17a180786b69acc140d282b71a49"
  },
  "kernelspec": {
   "display_name": "Python 3.9.7 64-bit",
   "language": "python",
   "name": "python3"
  },
  "language_info": {
   "codemirror_mode": {
    "name": "ipython",
    "version": 3
   },
   "file_extension": ".py",
   "mimetype": "text/x-python",
   "name": "python",
   "nbconvert_exporter": "python",
   "pygments_lexer": "ipython3",
   "version": "3.9.7"
  },
  "orig_nbformat": 4
 },
 "nbformat": 4,
 "nbformat_minor": 2
}
