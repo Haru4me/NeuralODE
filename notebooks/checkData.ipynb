{
 "cells": [
  {
   "cell_type": "code",
   "execution_count": 1,
   "metadata": {},
   "outputs": [],
   "source": [
    "import pandas as pd\n",
    "import numpy as np"
   ]
  },
  {
   "cell_type": "code",
   "execution_count": 2,
   "metadata": {},
   "outputs": [],
   "source": [
    "from src.tools.data import Data"
   ]
  },
  {
   "cell_type": "code",
   "execution_count": 3,
   "metadata": {},
   "outputs": [],
   "source": [
    "from torch.utils.data import DataLoader\n",
    "from tqdm import tqdm"
   ]
  },
  {
   "cell_type": "code",
   "execution_count": 4,
   "metadata": {},
   "outputs": [],
   "source": [
    "data = DataLoader(Data(val=False))"
   ]
  },
  {
   "cell_type": "code",
   "execution_count": 5,
   "metadata": {},
   "outputs": [],
   "source": [
    "X,y = next(iter(data))"
   ]
  },
  {
   "cell_type": "code",
   "execution_count": 6,
   "metadata": {},
   "outputs": [],
   "source": [
    "import matplotlib.pyplot as plt\n"
   ]
  },
  {
   "cell_type": "code",
   "execution_count": 7,
   "metadata": {},
   "outputs": [
    {
     "data": {
      "image/png": "[encoded data removed]",
      "text/plain": [
       "<Figure size 1080x360 with 1 Axes>"
      ]
     },
     "metadata": {
      "needs_background": "light"
     },
     "output_type": "display_data"
    }
   ],
   "source": [
    "plt.figure(figsize=(15,5))\n",
    "plt.plot(np.arange(X[:, 1].shape[0]), X[:, 0], label='t2m')\n",
    "plt.plot(np.arange(y[:, 1].shape[0]), y[:, 0], label='val_1')\n",
    "plt.plot(np.arange(y[:, 1].shape[0]), y[:, 1], label='val_2')\n",
    "plt.axvline(79, color='r', linestyle='--')\n",
    "plt.legend()\n",
    "plt.show()\n"
   ]
  },
  {
   "cell_type": "code",
   "execution_count": 8,
   "metadata": {},
   "outputs": [],
   "source": [
    "import torch\n",
    "import torch.nn as nn\n",
    "\n",
    "t = torch.linspace(0,1,81)"
   ]
  },
  {
   "cell_type": "code",
   "execution_count": 9,
   "metadata": {},
   "outputs": [
    {
     "data": {
      "text/plain": [
       "torch.Size([1, 80, 8])"
      ]
     },
     "execution_count": 9,
     "metadata": {},
     "output_type": "execute_result"
    }
   ],
   "source": [
    "X.shape"
   ]
  },
  {
   "cell_type": "code",
   "execution_count": 7,
   "metadata": {},
   "outputs": [],
   "source": [
    "from src.torchdiffeq import odeint\n",
    "from src.tools.model import ODEF"
   ]
  },
  {
   "cell_type": "code",
   "execution_count": 11,
   "metadata": {},
   "outputs": [],
   "source": [
    "func = ODEF(8, 1, nn.Tanh)"
   ]
  },
  {
   "cell_type": "code",
   "execution_count": 12,
   "metadata": {},
   "outputs": [
    {
     "data": {
      "text/plain": [
       "torch.Size([1, 81, 2])"
      ]
     },
     "execution_count": 12,
     "metadata": {},
     "output_type": "execute_result"
    }
   ],
   "source": [
    "y.shape"
   ]
  },
  {
   "cell_type": "code",
   "execution_count": 13,
   "metadata": {},
   "outputs": [],
   "source": [
    "pred = odeint(func, y[:, 0, :], X, t, method='euler',\n",
    "              options={'step_size': 0.0125, 'interp':'linear'})\n"
   ]
  },
  {
   "cell_type": "code",
   "execution_count": 14,
   "metadata": {},
   "outputs": [
    {
     "data": {
      "image/png": "[encoded data removed]",
      "text/plain": [
       "<Figure size 432x288 with 1 Axes>"
      ]
     },
     "metadata": {
      "needs_background": "light"
     },
     "output_type": "display_data"
    }
   ],
   "source": [
    "plt.plot(t, pred[:, 0, 0].detach().numpy())\n",
    "plt.plot(t, y[0, :, 0].detach().numpy())\n",
    "plt.show()\n"
   ]
  },
  {
   "cell_type": "code",
   "execution_count": 67,
   "metadata": {},
   "outputs": [],
   "source": [
    "from tqdm import tqdm"
   ]
  },
  {
   "cell_type": "code",
   "execution_count": 50,
   "metadata": {},
   "outputs": [],
   "source": [
    "agro = pd.read_parquet('data/agro.parquet').sort_values(by=['ind', 'datetime'])\n",
    "syn = pd.read_parquet('data/new_syn.parquet').sort_values(by=['ind', 'datetime'])\n",
    "\n",
    "df = syn.merge(agro, on=['ind', 'datetime']).dropna()\n",
    "pairs = df[['ind', 'datetime']].drop_duplicates()\n",
    "filter = [(i, t0) for i, t0, t1 in zip(pairs.ind, pairs.datetime[:-1], pairs.datetime[1:]) if 10 <= (t1-t0).days <= 11]\n",
    "pairs = df.groupby(['ind', 'datetime']).count().loc[filter]\n",
    "pairs = pairs[pairs.t2m == 80].reset_index()[['ind', 'datetime']]\n",
    "\n",
    "pairs = [(i, t0, t1) for i, t0, t1 in zip(pairs.ind, pairs.datetime[:-1], pairs.datetime[1:]) if 10 <= (t1-t0).days <= 11]\n",
    "\n",
    "df.set_index(['ind', 'datetime'], inplace=True)"
   ]
  },
  {
   "cell_type": "code",
   "execution_count": 55,
   "metadata": {},
   "outputs": [
    {
     "data": {
      "text/html": [
       "<div>\n",
       "<style scoped>\n",
       "    .dataframe tbody tr th:only-of-type {\n",
       "        vertical-align: middle;\n",
       "    }\n",
       "\n",
       "    .dataframe tbody tr th {\n",
       "        vertical-align: top;\n",
       "    }\n",
       "\n",
       "    .dataframe thead th {\n",
       "        text-align: right;\n",
       "    }\n",
       "</style>\n",
       "<table border=\"1\" class=\"dataframe\">\n",
       "  <thead>\n",
       "    <tr style=\"text-align: right;\">\n",
       "      <th></th>\n",
       "      <th></th>\n",
       "      <th>t2m</th>\n",
       "      <th>td2m</th>\n",
       "      <th>ff</th>\n",
       "      <th>R12</th>\n",
       "      <th>phi</th>\n",
       "      <th>air</th>\n",
       "      <th>soilw</th>\n",
       "      <th>precip</th>\n",
       "      <th>dec</th>\n",
       "      <th>val_1</th>\n",
       "      <th>val_2</th>\n",
       "    </tr>\n",
       "    <tr>\n",
       "      <th>ind</th>\n",
       "      <th>datetime</th>\n",
       "      <th></th>\n",
       "      <th></th>\n",
       "      <th></th>\n",
       "      <th></th>\n",
       "      <th></th>\n",
       "      <th></th>\n",
       "      <th></th>\n",
       "      <th></th>\n",
       "      <th></th>\n",
       "      <th></th>\n",
       "      <th></th>\n",
       "    </tr>\n",
       "  </thead>\n",
       "  <tbody>\n",
       "    <tr>\n",
       "      <th rowspan=\"11\" valign=\"top\">66103</th>\n",
       "      <th>2014-06-17 09:00:00</th>\n",
       "      <td>18.6</td>\n",
       "      <td>4.6</td>\n",
       "      <td>2.0</td>\n",
       "      <td>0.0</td>\n",
       "      <td>19.566330</td>\n",
       "      <td>290.634674</td>\n",
       "      <td>228.954849</td>\n",
       "      <td>2.221</td>\n",
       "      <td>17</td>\n",
       "      <td>27.0</td>\n",
       "      <td>56.0</td>\n",
       "    </tr>\n",
       "    <tr>\n",
       "      <th>2014-06-17 09:00:00</th>\n",
       "      <td>17.8</td>\n",
       "      <td>6.5</td>\n",
       "      <td>2.0</td>\n",
       "      <td>0.0</td>\n",
       "      <td>19.560040</td>\n",
       "      <td>290.634674</td>\n",
       "      <td>228.954849</td>\n",
       "      <td>2.221</td>\n",
       "      <td>17</td>\n",
       "      <td>27.0</td>\n",
       "      <td>56.0</td>\n",
       "    </tr>\n",
       "    <tr>\n",
       "      <th>2014-06-17 09:00:00</th>\n",
       "      <td>17.8</td>\n",
       "      <td>6.5</td>\n",
       "      <td>2.0</td>\n",
       "      <td>0.0</td>\n",
       "      <td>19.553705</td>\n",
       "      <td>290.634674</td>\n",
       "      <td>228.954849</td>\n",
       "      <td>2.221</td>\n",
       "      <td>17</td>\n",
       "      <td>27.0</td>\n",
       "      <td>56.0</td>\n",
       "    </tr>\n",
       "    <tr>\n",
       "      <th>2014-06-17 09:00:00</th>\n",
       "      <td>12.0</td>\n",
       "      <td>8.7</td>\n",
       "      <td>1.0</td>\n",
       "      <td>0.0</td>\n",
       "      <td>19.547326</td>\n",
       "      <td>290.634674</td>\n",
       "      <td>228.954849</td>\n",
       "      <td>2.221</td>\n",
       "      <td>17</td>\n",
       "      <td>27.0</td>\n",
       "      <td>56.0</td>\n",
       "    </tr>\n",
       "    <tr>\n",
       "      <th>2014-06-17 09:00:00</th>\n",
       "      <td>10.3</td>\n",
       "      <td>8.2</td>\n",
       "      <td>1.0</td>\n",
       "      <td>0.0</td>\n",
       "      <td>19.540904</td>\n",
       "      <td>290.634674</td>\n",
       "      <td>228.954849</td>\n",
       "      <td>2.221</td>\n",
       "      <td>17</td>\n",
       "      <td>27.0</td>\n",
       "      <td>56.0</td>\n",
       "    </tr>\n",
       "    <tr>\n",
       "      <th>...</th>\n",
       "      <td>...</td>\n",
       "      <td>...</td>\n",
       "      <td>...</td>\n",
       "      <td>...</td>\n",
       "      <td>...</td>\n",
       "      <td>...</td>\n",
       "      <td>...</td>\n",
       "      <td>...</td>\n",
       "      <td>...</td>\n",
       "      <td>...</td>\n",
       "      <td>...</td>\n",
       "    </tr>\n",
       "    <tr>\n",
       "      <th>2014-06-17 09:00:00</th>\n",
       "      <td>14.1</td>\n",
       "      <td>12.9</td>\n",
       "      <td>1.0</td>\n",
       "      <td>12.5</td>\n",
       "      <td>18.964445</td>\n",
       "      <td>290.634674</td>\n",
       "      <td>228.954849</td>\n",
       "      <td>2.221</td>\n",
       "      <td>17</td>\n",
       "      <td>27.0</td>\n",
       "      <td>56.0</td>\n",
       "    </tr>\n",
       "    <tr>\n",
       "      <th>2014-06-17 09:00:00</th>\n",
       "      <td>12.1</td>\n",
       "      <td>10.8</td>\n",
       "      <td>1.0</td>\n",
       "      <td>0.0</td>\n",
       "      <td>18.954888</td>\n",
       "      <td>290.634674</td>\n",
       "      <td>228.954849</td>\n",
       "      <td>2.221</td>\n",
       "      <td>17</td>\n",
       "      <td>27.0</td>\n",
       "      <td>56.0</td>\n",
       "    </tr>\n",
       "    <tr>\n",
       "      <th>2014-06-17 09:00:00</th>\n",
       "      <td>15.4</td>\n",
       "      <td>11.2</td>\n",
       "      <td>2.0</td>\n",
       "      <td>7.5</td>\n",
       "      <td>18.945290</td>\n",
       "      <td>290.634674</td>\n",
       "      <td>228.954849</td>\n",
       "      <td>2.221</td>\n",
       "      <td>17</td>\n",
       "      <td>27.0</td>\n",
       "      <td>56.0</td>\n",
       "    </tr>\n",
       "    <tr>\n",
       "      <th>2014-06-17 09:00:00</th>\n",
       "      <td>18.5</td>\n",
       "      <td>10.4</td>\n",
       "      <td>1.0</td>\n",
       "      <td>0.0</td>\n",
       "      <td>18.935651</td>\n",
       "      <td>290.634674</td>\n",
       "      <td>228.954849</td>\n",
       "      <td>2.221</td>\n",
       "      <td>17</td>\n",
       "      <td>27.0</td>\n",
       "      <td>56.0</td>\n",
       "    </tr>\n",
       "    <tr>\n",
       "      <th>2014-06-27 09:00:00</th>\n",
       "      <td>20.0</td>\n",
       "      <td>8.2</td>\n",
       "      <td>1.0</td>\n",
       "      <td>1.0</td>\n",
       "      <td>18.925970</td>\n",
       "      <td>290.634674</td>\n",
       "      <td>228.954849</td>\n",
       "      <td>2.221</td>\n",
       "      <td>18</td>\n",
       "      <td>24.0</td>\n",
       "      <td>49.0</td>\n",
       "    </tr>\n",
       "  </tbody>\n",
       "</table>\n",
       "<p>81 rows × 11 columns</p>\n",
       "</div>"
      ],
      "text/plain": [
       "                            t2m  td2m   ff   R12        phi         air  \\\n",
       "ind   datetime                                                            \n",
       "66103 2014-06-17 09:00:00  18.6   4.6  2.0   0.0  19.566330  290.634674   \n",
       "      2014-06-17 09:00:00  17.8   6.5  2.0   0.0  19.560040  290.634674   \n",
       "      2014-06-17 09:00:00  17.8   6.5  2.0   0.0  19.553705  290.634674   \n",
       "      2014-06-17 09:00:00  12.0   8.7  1.0   0.0  19.547326  290.634674   \n",
       "      2014-06-17 09:00:00  10.3   8.2  1.0   0.0  19.540904  290.634674   \n",
       "...                         ...   ...  ...   ...        ...         ...   \n",
       "      2014-06-17 09:00:00  14.1  12.9  1.0  12.5  18.964445  290.634674   \n",
       "      2014-06-17 09:00:00  12.1  10.8  1.0   0.0  18.954888  290.634674   \n",
       "      2014-06-17 09:00:00  15.4  11.2  2.0   7.5  18.945290  290.634674   \n",
       "      2014-06-17 09:00:00  18.5  10.4  1.0   0.0  18.935651  290.634674   \n",
       "      2014-06-27 09:00:00  20.0   8.2  1.0   1.0  18.925970  290.634674   \n",
       "\n",
       "                                soilw  precip  dec  val_1  val_2  \n",
       "ind   datetime                                                    \n",
       "66103 2014-06-17 09:00:00  228.954849   2.221   17   27.0   56.0  \n",
       "      2014-06-17 09:00:00  228.954849   2.221   17   27.0   56.0  \n",
       "      2014-06-17 09:00:00  228.954849   2.221   17   27.0   56.0  \n",
       "      2014-06-17 09:00:00  228.954849   2.221   17   27.0   56.0  \n",
       "      2014-06-17 09:00:00  228.954849   2.221   17   27.0   56.0  \n",
       "...                               ...     ...  ...    ...    ...  \n",
       "      2014-06-17 09:00:00  228.954849   2.221   17   27.0   56.0  \n",
       "      2014-06-17 09:00:00  228.954849   2.221   17   27.0   56.0  \n",
       "      2014-06-17 09:00:00  228.954849   2.221   17   27.0   56.0  \n",
       "      2014-06-17 09:00:00  228.954849   2.221   17   27.0   56.0  \n",
       "      2014-06-27 09:00:00  228.954849   2.221   18   24.0   49.0  \n",
       "\n",
       "[81 rows x 11 columns]"
      ]
     },
     "execution_count": 55,
     "metadata": {},
     "output_type": "execute_result"
    }
   ],
   "source": [
    "i, t1, t2 = pairs[-1]\n",
    "\n",
    "pd.concat((df.loc[i, t1], df.loc[i, t2].iloc[[0]]), axis=0)\n"
   ]
  },
  {
   "cell_type": "code",
   "execution_count": 109,
   "metadata": {},
   "outputs": [
    {
     "name": "stderr",
     "output_type": "stream",
     "text": [
      "100%|██████████| 43146/43146 [1:33:57<00:00,  7.65it/s]  \n"
     ]
    }
   ],
   "source": [
    "pbar = tqdm(total=len(pairs))\n",
    "with pbar:\n",
    "    for i, t1, t2 in pairs:\n",
    "        data = pd.concat((df.loc[i, t1], df.loc[i, t2].iloc[[0]]), axis=0)\n",
    "        features = data[['t2m', 'td2m', 'ff', 'R12', 'phi', 'air', 'soilw', 'precip']].to_numpy()[:80]\n",
    "        targets = data[['val_1', 'val_2']].to_numpy()[[0, -1]]\n",
    "        np.savez_compressed(f\"data/dataset/{i}_{t1.date().strftime('%Y-%m-%d')}_{t2.date().strftime('%Y-%m-%d')}\", \n",
    "                                feature=features, target=targets, ind=i, t1=t1, t2=t2)\n",
    "        pbar.update(1)\n"
   ]
  },
  {
   "cell_type": "code",
   "execution_count": 15,
   "metadata": {},
   "outputs": [],
   "source": [
    "from pathlib import Path"
   ]
  },
  {
   "cell_type": "code",
   "execution_count": 16,
   "metadata": {},
   "outputs": [],
   "source": [
    "paths = list(Path('data/dataset').glob('*.npz'))\n"
   ]
  },
  {
   "cell_type": "code",
   "execution_count": 17,
   "metadata": {},
   "outputs": [],
   "source": [
    "from sklearn.model_selection import train_test_split, KFold\n",
    "from torch.utils.data import Dataset, DataLoader"
   ]
  },
  {
   "cell_type": "code",
   "execution_count": 18,
   "metadata": {},
   "outputs": [],
   "source": [
    "class DataNPZ(Dataset):\n",
    "\n",
    "    def __init__(self, val: bool = False):\n",
    "\n",
    "        self.paths = list(Path('data/dataset').glob('*.npz'))\n",
    "        train_paths, val_paths = train_test_split(self.paths, test_size=0.1, shuffle=False)\n",
    "        if val:\n",
    "            self.paths = np.random.permutation(val_paths).tolist()\n",
    "        else:\n",
    "            self.paths = np.random.permutation(train_paths).tolist()\n",
    "    \n",
    "    def __len__(self):\n",
    "        return len(self.paths)\n",
    "\n",
    "\n",
    "    def __getitem__(self, index):\n",
    "\n",
    "        path = self.paths[index % self.__len__()]\n",
    "        data = np.load(path)\n",
    "        \n",
    "        return torch.Tensor(data['feature']), torch.Tensor(data['target'])\n"
   ]
  },
  {
   "cell_type": "code",
   "execution_count": 8,
   "metadata": {},
   "outputs": [],
   "source": [
    "from src.tools.data import DataNPZ\n",
    "from src.tools.model import ODEF\n",
    "from src.tools.metrics import MAPE\n",
    "import torch.nn as nn\n",
    "from src.torchdiffeq import odeint\n",
    "import torch"
   ]
  },
  {
   "cell_type": "code",
   "execution_count": 20,
   "metadata": {},
   "outputs": [],
   "source": [
    "data = DataNPZ()"
   ]
  },
  {
   "cell_type": "code",
   "execution_count": 21,
   "metadata": {},
   "outputs": [],
   "source": [
    "import numpy as np"
   ]
  },
  {
   "cell_type": "code",
   "execution_count": 23,
   "metadata": {},
   "outputs": [],
   "source": [
    "from pathlib import Path"
   ]
  },
  {
   "cell_type": "code",
   "execution_count": 24,
   "metadata": {},
   "outputs": [
    {
     "data": {
      "text/plain": [
       "[PosixPath('data/dataset/57603_2015-04-27_2015-05-07.npz'),\n",
       " PosixPath('data/dataset/57603_2015-09-27_2015-10-07.npz'),\n",
       " PosixPath('data/dataset/57603_2015-09-07_2015-09-17.npz'),\n",
       " PosixPath('data/dataset/57603_2015-06-27_2015-07-07.npz'),\n",
       " PosixPath('data/dataset/57603_2015-07-07_2015-07-17.npz'),\n",
       " PosixPath('data/dataset/57603_2015-05-17_2015-05-28.npz'),\n",
       " PosixPath('data/dataset/57603_2015-09-17_2015-09-27.npz'),\n",
       " PosixPath('data/dataset/57603_2015-07-17_2015-07-28.npz'),\n",
       " PosixPath('data/dataset/57603_2015-05-07_2015-05-17.npz'),\n",
       " PosixPath('data/dataset/57603_2015-08-17_2015-08-28.npz'),\n",
       " PosixPath('data/dataset/57603_2015-08-28_2015-09-07.npz')]"
      ]
     },
     "execution_count": 24,
     "metadata": {},
     "output_type": "execute_result"
    }
   ],
   "source": [
    "list(Path('data/dataset').glob('*57603_2015*.npz'))\n"
   ]
  },
  {
   "cell_type": "code",
   "execution_count": 25,
   "metadata": {},
   "outputs": [
    {
     "data": {
      "text/plain": [
       "646"
      ]
     },
     "execution_count": 25,
     "metadata": {},
     "output_type": "execute_result"
    }
   ],
   "source": [
    "list(Path('data/dataset').glob('*.npz')).index(list(Path('data/dataset').glob('*57603_2015*.npz'))[1])\n"
   ]
  },
  {
   "cell_type": "code",
   "execution_count": 26,
   "metadata": {},
   "outputs": [
    {
     "data": {
      "text/plain": [
       "[PosixPath('data/dataset/57603_2015-04-27_2015-05-07.npz'),\n",
       " PosixPath('data/dataset/57603_2015-05-07_2015-05-17.npz'),\n",
       " PosixPath('data/dataset/57603_2015-05-17_2015-05-28.npz'),\n",
       " PosixPath('data/dataset/57603_2015-06-27_2015-07-07.npz'),\n",
       " PosixPath('data/dataset/57603_2015-07-07_2015-07-17.npz'),\n",
       " PosixPath('data/dataset/57603_2015-07-17_2015-07-28.npz'),\n",
       " PosixPath('data/dataset/57603_2015-08-17_2015-08-28.npz'),\n",
       " PosixPath('data/dataset/57603_2015-08-28_2015-09-07.npz'),\n",
       " PosixPath('data/dataset/57603_2015-09-07_2015-09-17.npz'),\n",
       " PosixPath('data/dataset/57603_2015-09-17_2015-09-27.npz'),\n",
       " PosixPath('data/dataset/57603_2015-09-27_2015-10-07.npz')]"
      ]
     },
     "execution_count": 26,
     "metadata": {},
     "output_type": "execute_result"
    }
   ],
   "source": [
    "sorted(list(Path('data/dataset').glob('*57603_2015*.npz')))"
   ]
  },
  {
   "cell_type": "code",
   "execution_count": 21,
   "metadata": {},
   "outputs": [],
   "source": [
    "def init_weights(m):\n",
    "\n",
    "    print(m.c)\n",
    "\n",
    "    if isinstance(m, nn.Linear) and m.out_features != 2:\n",
    "        a = 1/np.sqrt(m.in_features)\n",
    "        m.weight.data.uniform_(-a, a)\n",
    "        m.bias.data.fill_(0)\n",
    "\n",
    "    elif isinstance(m, nn.Linear) and m.out_features == 2:\n",
    "        a = 0.2/np.sqrt(m.in_features)\n",
    "        m.weight.data.uniform_(-a, a)\n",
    "        m.bias.data.fill_(0)"
   ]
  },
  {
   "cell_type": "code",
   "execution_count": 23,
   "metadata": {},
   "outputs": [
    {
     "name": "stdout",
     "output_type": "stream",
     "text": [
      "Linear(in_features=10, out_features=16, bias=True)\n",
      "Tanh()\n",
      "Sequential(\n",
      "  (0): Linear(in_features=10, out_features=16, bias=True)\n",
      "  (1): Tanh()\n",
      ")\n",
      "Linear(in_features=16, out_features=32, bias=True)\n",
      "Tanh()\n",
      "Linear(in_features=32, out_features=16, bias=True)\n",
      "Tanh()\n",
      "Sequential(\n",
      "  (0): Linear(in_features=16, out_features=32, bias=True)\n",
      "  (1): Tanh()\n",
      "  (2): Linear(in_features=32, out_features=16, bias=True)\n",
      "  (3): Tanh()\n",
      ")\n",
      "Linear(in_features=16, out_features=2, bias=True)\n",
      "ODEF(\n",
      "  (input): Sequential(\n",
      "    (0): Linear(in_features=10, out_features=16, bias=True)\n",
      "    (1): Tanh()\n",
      "  )\n",
      "  (hiden): Sequential(\n",
      "    (0): Linear(in_features=16, out_features=32, bias=True)\n",
      "    (1): Tanh()\n",
      "    (2): Linear(in_features=32, out_features=16, bias=True)\n",
      "    (3): Tanh()\n",
      "  )\n",
      "  (output): Linear(in_features=16, out_features=2, bias=True)\n",
      ")\n"
     ]
    }
   ],
   "source": [
    "func = ODEF([16, 32, 16], nn.Tanh).apply(init_weights);"
   ]
  },
  {
   "cell_type": "code",
   "execution_count": null,
   "metadata": {},
   "outputs": [],
   "source": []
  },
  {
   "cell_type": "code",
   "execution_count": 34,
   "metadata": {},
   "outputs": [
    {
     "name": "stderr",
     "output_type": "stream",
     "text": [
      "  0%|          | 1/38831 [00:00<1:21:29,  7.94it/s]\n"
     ]
    }
   ],
   "source": [
    "pbar = tqdm(total=len(data))\n",
    "with pbar:\n",
    "    for batch in DataLoader(data, batch_size=12, shuffle=True):\n",
    "        v, z = batch\n",
    "        z0, z1 = z[:, 0], z[:, -1]\n",
    "        t = torch.linspace(0, 1, 81, dtype=z0.dtype)\n",
    "        first, pred = odeint(func, z0, v, t, method='euler')[[0,-1]]\n",
    "        pbar.update(1)\n",
    "        break"
   ]
  },
  {
   "cell_type": "code",
   "execution_count": 29,
   "metadata": {},
   "outputs": [],
   "source": [
    "from src.tools.metrics import MyMetric"
   ]
  },
  {
   "cell_type": "code",
   "execution_count": 30,
   "metadata": {},
   "outputs": [
    {
     "data": {
      "text/plain": [
       "84.05216217041016"
      ]
     },
     "execution_count": 30,
     "metadata": {},
     "output_type": "execute_result"
    }
   ],
   "source": [
    "MAPE()(z1, pred).item()\n"
   ]
  },
  {
   "cell_type": "code",
   "execution_count": 27,
   "metadata": {},
   "outputs": [],
   "source": [
    "agro = pd.read_parquet('./data/new_agro.parquet')"
   ]
  },
  {
   "cell_type": "code",
   "execution_count": 94,
   "metadata": {},
   "outputs": [],
   "source": [
    "import matplotlib.pyplot as plt"
   ]
  },
  {
   "cell_type": "code",
   "execution_count": 40,
   "metadata": {},
   "outputs": [
    {
     "data": {
      "text/plain": [
       "702"
      ]
     },
     "execution_count": 40,
     "metadata": {},
     "output_type": "execute_result"
    }
   ],
   "source": [
    "np.argmax(agro.groupby('ind').agg({\n",
    "    'val_1': 'std',\n",
    "    'val_2': 'std'\n",
    "}))\n"
   ]
  },
  {
   "cell_type": "code",
   "execution_count": 41,
   "metadata": {},
   "outputs": [
    {
     "data": {
      "text/plain": [
       "val_1     5.749004\n",
       "val_2    11.243398\n",
       "Name: 57603, dtype: float64"
      ]
     },
     "execution_count": 41,
     "metadata": {},
     "output_type": "execute_result"
    }
   ],
   "source": [
    "agro.groupby('ind').agg({\n",
    "    'val_1': 'std',\n",
    "    'val_2': 'std'\n",
    "}).iloc[702]"
   ]
  },
  {
   "cell_type": "code",
   "execution_count": 67,
   "metadata": {},
   "outputs": [
    {
     "data": {
      "text/plain": [
       "DatetimeIndex([          '2007-05-07 00:00:00',\n",
       "               '2008-04-14 06:32:43.636363636',\n",
       "               '2009-03-23 13:05:27.272727272',\n",
       "               '2010-03-01 19:38:10.909090912',\n",
       "               '2011-02-08 02:10:54.545454544',\n",
       "               '2012-01-17 08:43:38.181818176',\n",
       "               '2012-12-25 15:16:21.818181824',\n",
       "               '2013-12-03 21:49:05.454545440',\n",
       "               '2014-11-12 04:21:49.090909088',\n",
       "               '2015-10-21 10:54:32.727272736',\n",
       "               '2016-09-28 17:27:16.363636352',\n",
       "                         '2017-09-07 00:00:00'],\n",
       "              dtype='datetime64[ns]', freq=None)"
      ]
     },
     "execution_count": 67,
     "metadata": {},
     "output_type": "execute_result"
    }
   ],
   "source": [
    "pd.date_range('2007-05-07', '2017-09-07', 12)"
   ]
  },
  {
   "cell_type": "code",
   "execution_count": 107,
   "metadata": {},
   "outputs": [
    {
     "data": {
      "text/plain": [
       "[]"
      ]
     },
     "execution_count": 107,
     "metadata": {},
     "output_type": "execute_result"
    },
    {
     "data": {
      "image/png": "[encoded data removed]",
      "text/plain": [
       "<Figure size 1440x360 with 1 Axes>"
      ]
     },
     "metadata": {
      "needs_background": "light"
     },
     "output_type": "display_data"
    }
   ],
   "source": [
    "plt.figure(figsize=(20,5))\n",
    "for i in range(2007,2020):\n",
    "    if i != 2015:\n",
    "        pass\n",
    "    else:\n",
    "        plt.plot(agro[(agro.ind == 57603) & (agro.datetime.dt.year == i)].datetime.dt.day_of_year, agro[(\n",
    "            agro.ind == 57603) & (agro.datetime.dt.year == i)].val_1, 'o-', alpha=1)\n",
    "        plt.plot(agro[(agro.ind == 57603) & (agro.datetime.dt.year == i)].datetime.dt.day_of_year, agro[(\n",
    "            agro.ind == 57603) & (agro.datetime.dt.year == i)].val_2, 'o-', alpha=1)\n",
    "plt.grid()\n",
    "#plt.xticks(pd.date_range('2007-05-07', '2019-09-07', 12))\n",
    "plt.plot()\n"
   ]
  },
  {
   "cell_type": "code",
   "execution_count": 74,
   "metadata": {},
   "outputs": [
    {
     "data": {
      "text/plain": [
       "tensor(17.4233, grad_fn=<MeanBackward0>)"
      ]
     },
     "execution_count": 74,
     "metadata": {},
     "output_type": "execute_result"
    }
   ],
   "source": [
    "(z0 - func(None, torch.cat((z0, v[:, 0]), dim=-1))).mean()\n"
   ]
  },
  {
   "cell_type": "code",
   "execution_count": 79,
   "metadata": {},
   "outputs": [],
   "source": [
    "import pandas as pd"
   ]
  },
  {
   "cell_type": "code",
   "execution_count": 80,
   "metadata": {},
   "outputs": [],
   "source": [
    "agro = pd.read_parquet('./data/new_agro.parquet')"
   ]
  },
  {
   "cell_type": "code",
   "execution_count": 32,
   "metadata": {},
   "outputs": [],
   "source": [
    "class newODEF(nn.Module):\n",
    "\n",
    "    def __init__(self, layers: list[int], func):\n",
    "\n",
    "        super().__init__()\n",
    "\n",
    "        net = [nn.Linear(10, layers[0]),\n",
    "               func()]\n",
    "\n",
    "        for i in range(1, len(layers)):\n",
    "            net.append(nn.Linear(layers[i-1], layers[i]))\n",
    "            net.append(func())\n",
    "\n",
    "        net.append(nn.Linear(layers[i], 2))\n",
    "\n",
    "        self.net = nn.Sequential(*net)\n",
    "\n",
    "    def forward(self, t, x):\n",
    "        return self.net(x)\n"
   ]
  },
  {
   "cell_type": "code",
   "execution_count": 63,
   "metadata": {},
   "outputs": [],
   "source": [
    "func = ODEF([2, 2], nn.Tanh).apply(init_weights)"
   ]
  },
  {
   "cell_type": "code",
   "execution_count": 68,
   "metadata": {},
   "outputs": [
    {
     "ename": "StopIteration",
     "evalue": "",
     "output_type": "error",
     "traceback": [
      "\u001b[0;31m---------------------------------------------------------------------------\u001b[0m",
      "\u001b[0;31mStopIteration\u001b[0m                             Traceback (most recent call last)",
      "\u001b[0;32m/var/folders/4d/n4s2rn4934s8nfb8c3pmyy1c0000gn/T/ipykernel_68235/494518226.py\u001b[0m in \u001b[0;36m<module>\u001b[0;34m\u001b[0m\n\u001b[0;32m----> 1\u001b[0;31m \u001b[0mnext\u001b[0m\u001b[0;34m(\u001b[0m\u001b[0mfunc\u001b[0m\u001b[0;34m.\u001b[0m\u001b[0mnet\u001b[0m\u001b[0;34m[\u001b[0m\u001b[0;36m2\u001b[0m\u001b[0;34m]\u001b[0m\u001b[0;34m.\u001b[0m\u001b[0mnamed_children\u001b[0m\u001b[0;34m(\u001b[0m\u001b[0;34m)\u001b[0m\u001b[0;34m)\u001b[0m\u001b[0;34m\u001b[0m\u001b[0;34m\u001b[0m\u001b[0m\n\u001b[0m",
      "\u001b[0;31mStopIteration\u001b[0m: "
     ]
    }
   ],
   "source": [
    "func.net[2].named_children()"
   ]
  },
  {
   "cell_type": "code",
   "execution_count": 64,
   "metadata": {},
   "outputs": [
    {
     "data": {
      "text/plain": [
       "tensor([[ -0.2719,   0.9321],\n",
       "        [ -0.4860, -68.9571]], grad_fn=<DivBackward0>)"
      ]
     },
     "execution_count": 64,
     "metadata": {},
     "output_type": "execute_result"
    }
   ],
   "source": [
    "func.net[2].weight/func.net[4].weight\n"
   ]
  },
  {
   "cell_type": "code",
   "execution_count": 49,
   "metadata": {},
   "outputs": [
    {
     "data": {
      "image/png": "[encoded data removed]",
      "text/plain": [
       "<Figure size 432x288 with 1 Axes>"
      ]
     },
     "metadata": {
      "needs_background": "light"
     },
     "output_type": "display_data"
    }
   ],
   "source": [
    "pred = odeint(func, z0, v, t, method='euler').detach().numpy()\n",
    "plt.plot(np.arange(pred.shape[0]), pred[:, 0, 0])\n",
    "plt.plot(np.arange(pred.shape[0]), pred[:, 0, 1])\n",
    "plt.show()"
   ]
  },
  {
   "cell_type": "code",
   "execution_count": 177,
   "metadata": {},
   "outputs": [],
   "source": [
    "y1, y2 = train_test_split(agro, test_size=0.1, shuffle=True)\n"
   ]
  },
  {
   "cell_type": "code",
   "execution_count": 178,
   "metadata": {},
   "outputs": [],
   "source": [
    "from scipy.stats import ks_2samp"
   ]
  },
  {
   "cell_type": "code",
   "execution_count": 179,
   "metadata": {},
   "outputs": [
    {
     "data": {
      "image/png": "[encoded data removed]",
      "text/plain": [
       "<Figure size 432x288 with 1 Axes>"
      ]
     },
     "metadata": {
      "needs_background": "light"
     },
     "output_type": "display_data"
    }
   ],
   "source": [
    "y1.val_1.hist(density=True, alpha=0.5)\n",
    "y2.val_1.hist(density=True, alpha=0.5)\n",
    "plt.title('K-S stat: %.3f, p-value: %.3f' % ks_2samp(y1.val_1, y2.val_1))\n",
    "plt.show()\n"
   ]
  },
  {
   "cell_type": "code",
   "execution_count": 180,
   "metadata": {},
   "outputs": [
    {
     "data": {
      "image/png": "[encoded data removed]",
      "text/plain": [
       "<Figure size 432x288 with 1 Axes>"
      ]
     },
     "metadata": {
      "needs_background": "light"
     },
     "output_type": "display_data"
    }
   ],
   "source": [
    "y1.val_2.hist(density=True, alpha=0.5)\n",
    "y2.val_2.hist(density=True, alpha=0.5)\n",
    "plt.title('K-S stat: %.3f, p-value: %.3f' % ks_2samp(y1.val_2, y2.val_2))\n",
    "plt.show()\n"
   ]
  },
  {
   "cell_type": "code",
   "execution_count": 183,
   "metadata": {},
   "outputs": [
    {
     "data": {
      "image/png": "[encoded data removed]",
      "text/plain": [
       "<Figure size 432x288 with 1 Axes>"
      ]
     },
     "metadata": {
      "needs_background": "light"
     },
     "output_type": "display_data"
    }
   ],
   "source": [
    "y1.datetime.hist(density=True, alpha=0.5)\n",
    "y2.datetime.hist(density=True, alpha=0.5)\n",
    "plt.title('K-S stat: %.3f, p-value: %.3f' % ks_2samp(y1.datetime, y2.datetime))\n",
    "plt.show()\n"
   ]
  },
  {
   "cell_type": "code",
   "execution_count": 184,
   "metadata": {},
   "outputs": [
    {
     "data": {
      "image/png": "[encoded data removed]",
      "text/plain": [
       "<Figure size 432x288 with 1 Axes>"
      ]
     },
     "metadata": {
      "needs_background": "light"
     },
     "output_type": "display_data"
    }
   ],
   "source": [
    "y1.ind.hist(density=True, alpha=0.5)\n",
    "y2.ind.hist(density=True, alpha=0.5)\n",
    "plt.title('K-S stat: %.3f, p-value: %.3f' % ks_2samp(y1.ind, y2.ind))\n",
    "plt.show()\n"
   ]
  },
  {
   "cell_type": "code",
   "execution_count": 187,
   "metadata": {},
   "outputs": [],
   "source": [
    "class DataNPZ(Dataset):\n",
    "\n",
    "    def __init__(self, val: bool = False):\n",
    "\n",
    "        self.paths = list(Path('data/dataset').glob('*.npz'))\n",
    "        train_paths, val_paths = train_test_split(\n",
    "            self.paths, test_size=0.1, shuffle=True)\n",
    "\n",
    "        if val:\n",
    "            self.paths = val_paths\n",
    "        else:\n",
    "            self.paths = train_paths\n",
    "\n",
    "    def __len__(self):\n",
    "        return len(self.paths)\n",
    "\n",
    "    def __getitem__(self, index):\n",
    "\n",
    "        path = self.paths[index % self.__len__()]\n",
    "        data = np.load(path)\n",
    "\n",
    "        return data['feature'], data['target']\n"
   ]
  },
  {
   "cell_type": "code",
   "execution_count": 190,
   "metadata": {},
   "outputs": [],
   "source": [
    "data = DataNPZ(val=True)"
   ]
  },
  {
   "cell_type": "code",
   "execution_count": 208,
   "metadata": {},
   "outputs": [],
   "source": [
    "data = DataNPZ(val=True)\n",
    "val1 = []\n",
    "val2 = []\n",
    "for i in range(len(data)):\n",
    "    val1.append(data[i][1][0, 0])\n",
    "    val2.append(data[i][1][0, 1])\n",
    "\n",
    "\n",
    "data = DataNPZ(val=False)\n",
    "tr1 = []\n",
    "tr2 = []\n",
    "for i in range(len(data)):\n",
    "    tr1.append(data[i][1][0, 0])\n",
    "    tr2.append(data[i][1][0, 1])\n"
   ]
  },
  {
   "cell_type": "code",
   "execution_count": 213,
   "metadata": {},
   "outputs": [
    {
     "data": {
      "image/png": "[encoded data removed]",
      "text/plain": [
       "<Figure size 432x288 with 1 Axes>"
      ]
     },
     "metadata": {
      "needs_background": "light"
     },
     "output_type": "display_data"
    }
   ],
   "source": [
    "_, bins, _ = plt.hist(val1, density=True, alpha=0.5)\n",
    "plt.hist(tr1, density=True, bins=bins, alpha=0.5)\n",
    "plt.title('K-S stat: %.3f, p-value: %.3f' % ks_2samp(val1, tr1))\n",
    "plt.show()\n"
   ]
  },
  {
   "cell_type": "code",
   "execution_count": 214,
   "metadata": {},
   "outputs": [
    {
     "data": {
      "image/png": "[encoded data removed]",
      "text/plain": [
       "<Figure size 432x288 with 1 Axes>"
      ]
     },
     "metadata": {
      "needs_background": "light"
     },
     "output_type": "display_data"
    }
   ],
   "source": [
    "_, bins, _ = plt.hist(val2, density=True, alpha=0.5)\n",
    "plt.hist(tr2, density=True, bins=bins, alpha=0.5)\n",
    "plt.title('K-S stat: %.3f, p-value: %.3f' % ks_2samp(val2, tr2))\n",
    "plt.show()\n"
   ]
  },
  {
   "cell_type": "code",
   "execution_count": null,
   "metadata": {},
   "outputs": [],
   "source": []
  },
  {
   "cell_type": "code",
   "execution_count": null,
   "metadata": {},
   "outputs": [],
   "source": []
  },
  {
   "cell_type": "code",
   "execution_count": null,
   "metadata": {},
   "outputs": [],
   "source": []
  }
 ],
 "metadata": {
  "interpreter": {
   "hash": "aee8b7b246df8f9039afb4144a1f6fd8d2ca17a180786b69acc140d282b71a49"
  },
  "kernelspec": {
   "display_name": "Python 3.9.7 64-bit",
   "language": "python",
   "name": "python3"
  },
  "language_info": {
   "codemirror_mode": {
    "name": "ipython",
    "version": 3
   },
   "file_extension": ".py",
   "mimetype": "text/x-python",
   "name": "python",
   "nbconvert_exporter": "python",
   "pygments_lexer": "ipython3",
   "version": "3.9.7"
  },
  "orig_nbformat": 4
 },
 "nbformat": 4,
 "nbformat_minor": 2
}
