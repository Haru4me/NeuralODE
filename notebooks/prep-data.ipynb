{
 "cells": [
  {
   "cell_type": "code",
   "execution_count": 1,
   "metadata": {},
   "outputs": [],
   "source": [
    "import pandas as pd\n",
    "import numpy as np\n",
    "import matplotlib.pyplot as plt\n",
    "from pathlib import Path"
   ]
  },
  {
   "cell_type": "code",
   "execution_count": 2,
   "metadata": {},
   "outputs": [],
   "source": [
    "from sklearn.model_selection import train_test_split\n",
    "from tqdm.notebook import tqdm\n",
    "import warnings\n",
    "warnings.filterwarnings(\"ignore\")"
   ]
  },
  {
   "cell_type": "code",
   "execution_count": null,
   "metadata": {},
   "outputs": [],
   "source": [
    "data = pd.read_parquet('../data/data.pq')"
   ]
  },
  {
   "cell_type": "code",
   "execution_count": null,
   "metadata": {},
   "outputs": [],
   "source": [
    "def save_to_npz(data: pd.DataFrame, features: list, start: list, target: list, test_size: float = 0.1) -> None:\n",
    "\n",
    "    k = True\n",
    "\n",
    "    while k:\n",
    "\n",
    "        ind = np.random.choice(data.ind.unique())\n",
    "        year = np.random.choice(data.ts.dt.year.unique())\n",
    "        n = data[(data.ind == ind) & (data.ts.dt.year == year)].dec.nunique()\n",
    "        k = (n > 16) or (n < 11)\n",
    "\n",
    "    data = data.set_index(['ind', data.ts.dt.year, 'dec'])\n",
    "    sample_idx = data.loc[[ind], [year], :].index.unique().to_numpy()\n",
    "    train_val_idx = data.drop([ind, year]).index.unique().to_numpy()\n",
    "    idx_stays = np.random.permutation(train_val_idx.shape[0])\n",
    "    break_point = int(len(idx_stays)*test_size)\n",
    "    train_idx = train_val_idx[idx_stays[break_point:]]\n",
    "    val_idx = train_val_idx[idx_stays[:break_point]]\n",
    "    all_idx = {'train': train_idx, 'val': val_idx, 'sample': sample_idx}\n",
    "\n",
    "    for key in all_idx.keys():\n",
    "\n",
    "        for ind, year, dec in tqdm(all_idx[key], desc=f'Saving {key} to npz'):\n",
    "\n",
    "            v = data.loc[ind, year, dec][features].to_numpy()\n",
    "            z0 = data.loc[ind, year, dec][start].to_numpy()[0]\n",
    "            z1 = data.loc[ind, year, dec][target].to_numpy()[0]\n",
    "\n",
    "            np.savez_compressed(f'../data/dataset/{key}/{ind}_{year}_{dec}.npz',\n",
    "                                v=v, z0=z0, z1=z1, ind=ind, year=year, dec=dec)\n",
    "\n",
    "    alls = set(Path('../data/dataset').rglob('*.npz'))\n",
    "\n",
    "    for path in tqdm(alls, desc=\"Search data with NaN\"):\n",
    "\n",
    "        file = np.load(path)\n",
    "        v, z0, z1 = file['v'], file['z0'], file['z1']\n",
    "\n",
    "        if np.isnan(v).sum() or np.isnan(z0).sum() or np.isnan(z1).sum():\n",
    "            os.remove(path)"
   ]
  },
  {
   "cell_type": "code",
   "execution_count": null,
   "metadata": {},
   "outputs": [],
   "source": [
    "FEATURES_COLS = ['t2m', 'td2m', 'ff', 'R12', 'phi', 'air', 'soilw', 'precip', 'soiltype', 'covertype']\n",
    "\n",
    "START_VAL_COLS = ['val_1', 'val_2']\n",
    "TARGET_COLS = ['val_1_next', 'val_2_next']"
   ]
  },
  {
   "cell_type": "code",
   "execution_count": null,
   "metadata": {},
   "outputs": [
    {
     "data": {
      "application/vnd.jupyter.widget-view+json": {
       "model_id": "860d651d402c4eed952fa02bbcacc99b",
       "version_major": 2,
       "version_minor": 0
      },
      "text/plain": [
       "Saving train to npz:   0%|          | 0/52800 [00:00<?, ?it/s]"
      ]
     },
     "metadata": {},
     "output_type": "display_data"
    },
    {
     "data": {
      "application/vnd.jupyter.widget-view+json": {
       "model_id": "acd4d1652ef6495fb6fb75cf5d81648c",
       "version_major": 2,
       "version_minor": 0
      },
      "text/plain": [
       "Saving val to npz:   0%|          | 0/13200 [00:00<?, ?it/s]"
      ]
     },
     "metadata": {},
     "output_type": "display_data"
    },
    {
     "data": {
      "application/vnd.jupyter.widget-view+json": {
       "model_id": "369e3c4fab4247298db8d2b641ea9955",
       "version_major": 2,
       "version_minor": 0
      },
      "text/plain": [
       "Saving sample to npz:   0%|          | 0/16 [00:00<?, ?it/s]"
      ]
     },
     "metadata": {},
     "output_type": "display_data"
    },
    {
     "data": {
      "application/vnd.jupyter.widget-view+json": {
       "model_id": "72163a9509114591a9a1e8b6510f272d",
       "version_major": 2,
       "version_minor": 0
      },
      "text/plain": [
       "Search data with NaN:   0%|          | 0/66016 [00:00<?, ?it/s]"
      ]
     },
     "metadata": {},
     "output_type": "display_data"
    }
   ],
   "source": [
    "save_to_npz(data, FEATURES_COLS, START_VAL_COLS, TARGET_COLS)"
   ]
  },
  {
   "cell_type": "code",
   "execution_count": 3,
   "metadata": {},
   "outputs": [],
   "source": [
    "alls = set(Path('../data/dataset').rglob('*.npz'))\n",
    "import os\n",
    "\n",
    "for path in alls:\n",
    "    os.remove(path)"
   ]
  },
  {
   "cell_type": "code",
   "execution_count": null,
   "metadata": {},
   "outputs": [],
   "source": []
  },
  {
   "cell_type": "code",
   "execution_count": null,
   "metadata": {},
   "outputs": [],
   "source": []
  },
  {
   "cell_type": "code",
   "execution_count": null,
   "metadata": {},
   "outputs": [],
   "source": []
  },
  {
   "cell_type": "code",
   "execution_count": null,
   "metadata": {},
   "outputs": [],
   "source": []
  }
 ],
 "metadata": {
  "interpreter": {
   "hash": "aee8b7b246df8f9039afb4144a1f6fd8d2ca17a180786b69acc140d282b71a49"
  },
  "kernelspec": {
   "display_name": "Python 3.9.7 64-bit",
   "language": "python",
   "name": "python3"
  },
  "language_info": {
   "codemirror_mode": {
    "name": "ipython",
    "version": 3
   },
   "file_extension": ".py",
   "mimetype": "text/x-python",
   "name": "python",
   "nbconvert_exporter": "python",
   "pygments_lexer": "ipython3",
   "version": "3.9.12"
  },
  "orig_nbformat": 4
 },
 "nbformat": 4,
 "nbformat_minor": 2
}
